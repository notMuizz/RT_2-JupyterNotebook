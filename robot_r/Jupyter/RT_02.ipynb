{
 "cells": [
  {
   "cell_type": "markdown",
   "id": "10288304",
   "metadata": {},
   "source": [
    "<font size = 6 >RT_02 </font>\n",
    "\n",
    "<font size = 4 color = 'Red'>Student : </font>\n",
    "<font size = 4 >Hafiz Muizz Ahmed Sethi</font>\n",
    "\n",
    "<font size = 4 color = 'Red'>Student ID: </font>\n",
    "<font size = 4> S5428151</font>"
   ]
  },
  {
   "cell_type": "markdown",
   "id": "c7bc23c3",
   "metadata": {},
   "source": [
    "# Notebook description\n",
    "<font size = 4 > This Notebook acts as a user interface for controlling a two-wheeled mobile robot within a ROS environment. It provides a graphical representation of the robot's state and behavior. </font> \n"
   ]
  },
  {
   "cell_type": "markdown",
   "id": "f12ec34a",
   "metadata": {},
   "source": [
    "<font size = 4 > Node 'A' incorporates an action client that enables the user to specify a target goal or cancel it. Additionally, the node publishes velocity information using a custom message format that includes values for position (x, y) and velocity (x_vel, y_vel), derived from the data published in the \"/odom\" topic.</font>\n",
    "\n",
    "<font size = 4 > To replace Node 'A', we intend to develop a Jupyter Notebook. This notebook will utilize widgets to provide the user with the following information: </font>\n",
    "\n",
    "<font size = 4 >  The current position of the robot </font>\n",
    "\n",
    "<font size = 4 >  A log of set goals and cancelled goals</font>\n",
    "\n",
    "<font size = 4 >  The distance to the nearest obstacle </font>"
   ]
  },
  {
   "cell_type": "markdown",
   "id": "85fbdb9b",
   "metadata": {},
   "source": [
    "<font size = 5 >1.To Start we have to add Necessary extensions </font>"
   ]
  },
  {
   "cell_type": "code",
   "execution_count": 2,
   "id": "be03f0c0",
   "metadata": {
    "ExecuteTime": {
     "end_time": "2023-05-29T15:13:50.534607Z",
     "start_time": "2023-05-29T15:13:45.659425Z"
    }
   },
   "outputs": [],
   "source": [
    "from ipywidgets import VBox,HBox,Layout\n",
    "import ipywidgets as widgets\n",
    "import jupyros as jr\n",
    "import rospy\n",
    "from IPython.display import display, clear_output\n",
    "import time\n",
    "import numpy as np\n",
    "from nav_msgs.msg import Odometry\n",
    "from geometry_msgs.msg import  Twist\n",
    "from robot_r.srv import my_service, my_serviceResponse\n",
    "from sensor_msgs.msg import LaserScan \n",
    "from assignment_2_2022.msg import PlanningAction, PlanningGoal\n",
    "from assignment_2_2022.msg import  PlanningActionResult, PlanningActionGoal,PlanningActionFeedback\n",
    "from geometry_msgs.msg import PoseStamped\n",
    "%matplotlib notebook\n",
    "import matplotlib.pyplot as plt\n",
    "from matplotlib.animation import FuncAnimation\n",
    "import actionlib\n",
    "from math import pi\n"
   ]
  },
  {
   "cell_type": "markdown",
   "id": "09255bfd",
   "metadata": {},
   "source": [
    "### Node initialization and Declaration of pusblisher."
   ]
  },
  {
   "cell_type": "code",
   "execution_count": null,
   "id": "4d53cf97",
   "metadata": {
    "ExecuteTime": {
     "end_time": "2023-05-29T15:13:51.249091Z",
     "start_time": "2023-05-29T15:13:50.566484Z"
    }
   },
   "outputs": [],
   "source": [
    "\n",
    "rospy.init_node('user_interface', anonymous=True)\n",
    "\n",
    "publisher = rospy.Publisher('cmd_vel',Twist, queue_size=10)\n",
    "\n",
    "\n",
    "client = actionlib.SimpleActionClient('/reaching_goal', PlanningAction)\n",
    "\n",
    "\n"
   ]
  },
  {
   "cell_type": "markdown",
   "id": "ce67001e",
   "metadata": {},
   "source": [
    "### Buttons for send and cancel Goal "
   ]
  },
  {
   "cell_type": "code",
   "execution_count": 3,
   "id": "ad011e65",
   "metadata": {
    "ExecuteTime": {
     "end_time": "2023-05-29T15:13:51.702408Z",
     "start_time": "2023-05-29T15:13:51.551237Z"
    },
    "hidden": true
   },
   "outputs": [],
   "source": [
    "x_goal=widgets.BoundedFloatText(value=0.0,min=-10.0,max=10.0, step=0.1,layout=widgets.Layout(width='200px'), description='X_position:',disabled=False)\n",
    "y_goal=widgets.BoundedFloatText(value=0.0,min=-10.0,max=10.0, step=0.1,layout=widgets.Layout(width='200px'), description='Y_position:',disabled=False)\n",
    "\n",
    "button1_goal = widgets.Button(description=\"Send Goal\", button_style='' 'info' '')\n",
    "button2_cancel=widgets.Button(description=\"Cancel target\",button_style='' 'danger' '')\n",
    "\n",
    "#display(button1_goal)\n",
    "#display(button2_cancel)\n",
    "#display(x_goal)\n",
    "#display(y_goal)\n"
   ]
  },
  {
   "cell_type": "markdown",
   "id": "84f72691",
   "metadata": {},
   "source": [
    "### Buttons Layout"
   ]
  },
  {
   "cell_type": "code",
   "execution_count": 4,
   "id": "ae4d40be",
   "metadata": {},
   "outputs": [],
   "source": [
    "sendig_goal_box = widgets.VBox([\n",
    "    \n",
    "    widgets.HBox([x_goal]),\n",
    "    widgets.HBox([y_goal]),\n",
    "    widgets.HBox([button1_goal, button2_cancel])\n",
    "])\n",
    "\n",
    "# Display the layout\n",
    "#display(sendig_goal_box)\n"
   ]
  },
  {
   "cell_type": "markdown",
   "id": "cabfdd34",
   "metadata": {},
   "source": [
    "### Goal Statue display"
   ]
  },
  {
   "cell_type": "code",
   "execution_count": 5,
   "id": "67a3f5ff",
   "metadata": {},
   "outputs": [],
   "source": [
    "disp = widgets.Textarea(value='', description='Goal Status')\n",
    "#disp"
   ]
  },
  {
   "cell_type": "markdown",
   "id": "70bd7723",
   "metadata": {},
   "source": [
    "### Callback function for sending goal Buttons"
   ]
  },
  {
   "cell_type": "code",
   "execution_count": 6,
   "id": "9d4e0dd8",
   "metadata": {
    "ExecuteTime": {
     "end_time": "2023-05-29T15:13:51.724842Z",
     "start_time": "2023-05-29T15:13:51.714782Z"
    },
    "hidden": true
   },
   "outputs": [],
   "source": [
    "def button1_Goal_callback(b):\n",
    "    \n",
    "    client.wait_for_server() \n",
    "    \n",
    "    goal = PoseStamped()    \n",
    "    goal.pose.position.x = x_goal.value\n",
    "    goal.pose.position.y = y_goal.value\n",
    "    #setting the goal, using the desired x,y of the user.\n",
    "    goal = PlanningGoal(goal) \n",
    "    #sending the goal       \n",
    "    client.send_goal(goal)\n",
    "    status_goal = True\n",
    "    goal_text = 'Your goal is set x= ({}, {})'.format(x_goal.value, y_goal.value)\n",
    "    disp.value = goal_text       \n",
    "            \n",
    "            \n",
    "def button2_cancel_callback(b):\n",
    "    client.cancel_goal()\n",
    "    calcel_text='Goal Cancelled'\n",
    "    disp.value=calcel_text\n",
    "    \n",
    "button1_goal.on_click(button1_Goal_callback)\n",
    "button2_cancel.on_click(button2_cancel_callback)\n",
    "#display(out)"
   ]
  },
  {
   "cell_type": "markdown",
   "id": "6b64ce9a",
   "metadata": {},
   "source": [
    "### Buttons for moving The Robot in Different Directions"
   ]
  },
  {
   "cell_type": "code",
   "execution_count": 7,
   "id": "acda5286",
   "metadata": {},
   "outputs": [],
   "source": [
    "button_backward = widgets.Button(description=\"BACKWARD\", button_style='' 'info' '')\n",
    "button_forward=widgets.Button(description=\"FORWARD\",button_style='' 'info' '')\n",
    "button_left = widgets.Button(description=\"LEFT\", button_style='' 'info' '')\n",
    "button_right=widgets.Button(description=\"RIGHT\",button_style='' 'info' '')\n",
    "\n",
    "#display(button_left)\n",
    "#display(button_right)\n",
    "#display(button_forward)\n",
    "#display(button_backward)"
   ]
  },
  {
   "cell_type": "markdown",
   "id": "ca237b17",
   "metadata": {},
   "source": [
    "### Buttons Layout"
   ]
  },
  {
   "cell_type": "code",
   "execution_count": 8,
   "id": "db3ae917",
   "metadata": {},
   "outputs": [],
   "source": [
    "direction_buttons_box = widgets.VBox([\n",
    "    widgets.HBox([widgets.Label(''),widgets.Label(''),widgets.Label(''),widgets.Label(''),widgets.Label(''),widgets.Label(''),widgets.Label(''),widgets.Label(''),widgets.Label(''),widgets.Label(''),widgets.Label(''),widgets.Label(''),widgets.Label(''),widgets.Label(''),widgets.Label(''),widgets.Label(''),widgets.Label(''),widgets.Label(''), button_forward, widgets.Label('')]),\n",
    "    widgets.HBox([button_left, widgets.Label(''),widgets.Label(''),widgets.Label(''),widgets.Label(''),widgets.Label(''),widgets.Label(''),widgets.Label(''), button_right]),\n",
    "    widgets.HBox([widgets.Label(''),widgets.Label(''),widgets.Label(''),widgets.Label(''),widgets.Label(''),widgets.Label(''),widgets.Label(''),widgets.Label(''),widgets.Label(''),widgets.Label(''),widgets.Label(''),widgets.Label(''),widgets.Label(''),widgets.Label(''),widgets.Label(''),widgets.Label(''),widgets.Label(''),widgets.Label(''),widgets.Label(''), button_backward, widgets.Label('')]),\n",
    "])\n",
    "#display(direction_buttons_box)"
   ]
  },
  {
   "cell_type": "markdown",
   "id": "70016cfa",
   "metadata": {},
   "source": [
    "### Callback Functions for Moving Robot in different Directions Buttons"
   ]
  },
  {
   "cell_type": "code",
   "execution_count": null,
   "id": "9e1ff572",
   "metadata": {},
   "outputs": [],
   "source": [
    "vel=Twist()\n",
    "\n",
    "def button_Backward_Callback(b):\n",
    "    vel.linear.x=-1\n",
    "    publisher.publish(vel)\n",
    "    time.sleep(1)\n",
    "    vel.linear.x=0\n",
    "    publisher.publish(vel)\n",
    "    \n",
    "    \n",
    "def button_Forward_Callback(b):\n",
    "    vel.linear.x=1\n",
    "    publisher.publish(vel)\n",
    "    time.sleep(1)\n",
    "    vel.linear.x=0\n",
    "    publisher.publish(vel)\n",
    "    \n",
    "    \n",
    "def button_Left_Callback(b):\n",
    "    vel.angular.z=1\n",
    "    publisher.publish(vel)\n",
    "    time.sleep(1)\n",
    "    vel.angular.z=0\n",
    "    publisher.publish(vel)\n",
    "    \n",
    "\n",
    "def button_Right_Callback(b):\n",
    "    vel.angular.z=-1\n",
    "    publisher.publish(vel)\n",
    "    time.sleep(1)\n",
    "    vel.angular.z=0\n",
    "    publisher.publish(vel)\n",
    "    \n",
    "\n",
    "button_left.on_click(button_Left_Callback)\n",
    "button_right.on_click(button_Right_Callback)\n",
    "button_forward.on_click(button_Forward_Callback)\n",
    "button_backward.on_click(button_Backward_Callback)\n"
   ]
  },
  {
   "cell_type": "markdown",
   "id": "062d8048",
   "metadata": {},
   "source": [
    "### Collecting Previous Widgets in one box"
   ]
  },
  {
   "cell_type": "code",
   "execution_count": null,
   "id": "f7a83832",
   "metadata": {},
   "outputs": [],
   "source": [
    "vbox=widgets.VBox([sendig_goal_box,disp])\n",
    "hbox = widgets.HBox([vbox,widgets.Label(''),widgets.Label(''),widgets.Label(''),widgets.Label(''),widgets.Label(''),widgets.Label(''),widgets.Label(''),widgets.Label(''),widgets.Label(''),widgets.Label(''),widgets.Label(''),widgets.Label(''),widgets.Label(''),widgets.Label(''),widgets.Label(''),widgets.Label(''),widgets.Label(''),widgets.Label(''),widgets.Label(''),widgets.Label(''),widgets.Label(''),widgets.Label(''),widgets.Label(''),widgets.Label(''),widgets.Label(''),widgets.Label(''),widgets.Label(''),widgets.Label(''),widgets.Label(''),widgets.Label(''),widgets.Label(''),widgets.Label(''),widgets.Label(''),widgets.Label(''),widgets.Label(''),widgets.Label(''),widgets.Label(''),widgets.Label(''),widgets.Label(''),widgets.Label(''),widgets.Label(''),widgets.Label(''),widgets.Label(''),widgets.Label(''),widgets.Label(''),widgets.Label(''),widgets.Label(''),widgets.Label(''),widgets.Label(''),widgets.Label(''), direction_buttons_box])\n",
    "\n"
   ]
  },
  {
   "cell_type": "markdown",
   "id": "0d0cdbe2",
   "metadata": {},
   "source": [
    "###  Plot of Robot Position and Plot for Reached and Calcelled Goals"
   ]
  },
  {
   "cell_type": "code",
   "execution_count": null,
   "id": "8976ea4f",
   "metadata": {},
   "outputs": [],
   "source": [
    "class Visualiser:\n",
    "    def __init__(self):\n",
    "        self.fig, self.ax = plt.subplots(2, 1, figsize=(8, 10))\n",
    "        self.robot_ln, = self.ax[1].plot([], [], 'o', label='Robot Position')\n",
    "        self.target_ln, = self.ax[1].plot([], [], 'x', label='Target Position')\n",
    "\n",
    "        goal = PoseStamped()\n",
    "        self.x_robot = []\n",
    "        self.y_robot = [] \n",
    "        self.x_target = []\n",
    "        self.y_target = []\n",
    "\n",
    "        self.x = [\"Cancelled\", \"Reached\"]\n",
    "        self.y = [0, 0]\n",
    "        self.reached_bar = self.ax[0].bar(self.x, self.y, color=['red', 'green'], edgecolor='black', linewidth=1, width=0.5)\n",
    "\n",
    "    def plot_init(self):\n",
    "        self.ax[1].set_xlim(-10, 10)\n",
    "        self.ax[1].set_ylim(-10, 10)\n",
    "        self.ax[1].set_title('Robot and Target Position')\n",
    "        self.ax[1].set_xlabel('x_pos')\n",
    "        self.ax[1].set_ylabel('y_pos')\n",
    "        self.ax[1].legend()\n",
    "\n",
    "        self.ax[0].set_xlim(0, 2)\n",
    "        self.ax[0].set_ylim(0, 5)\n",
    "        self.ax[0].set_title('Target Status Count')\n",
    "        self.ax[0].set_xlabel('Status')\n",
    "        self.ax[0].set_ylabel('')\n",
    "\n",
    "        self.fig.subplots_adjust(hspace=0.5)\n",
    "\n",
    "        return self.robot_ln, self.target_ln, self.reached_bar\n",
    "\n",
    "    def odom_callback(self, msg):\n",
    "        self.y_robot.append(msg.pose.pose.position.y)\n",
    "        self.x_robot.append(msg.pose.pose.position.x)\n",
    "    \n",
    "    def TargetPoseCallback(self, goal: PlanningActionGoal):\n",
    "        self.x_target = goal.goal.target_pose.pose.position.x\n",
    "        self.y_target = goal.goal.target_pose.pose.position.y\n",
    "        self.x_robot = []\n",
    "        self.y_robot = []\n",
    "\n",
    "    def GoalStatusCallback(self, msg: PlanningActionResult):\n",
    "        self.state = msg.status.status\n",
    "        if self.state == 2:\n",
    "            self.y[0] += 1\n",
    "        elif self.state == 3:\n",
    "            self.y[1] += 1\n",
    "        \n",
    "        # Update the bar chart\n",
    "        for bar, count in zip(self.reached_bar, self.y):\n",
    "            bar.set_height(count)\n",
    "\n",
    "    def update_plot(self, frame):\n",
    "        self.ax[1].collections.clear()  # Clear any previous scatter plot\n",
    "        self.robot_ln.set_data(self.x_robot, self.y_robot)\n",
    "        self.target_ln.set_data(self.x_target, self.y_target)\n",
    "        self.ax[0].set_xlim(-0.5, len(self.x) - 0.5)\n",
    "        return self.robot_ln, self.target_ln, self.reached_bar\n",
    "\n",
    "vis = Visualiser()\n",
    "\n",
    "sub_odom = rospy.Subscriber('/odom', Odometry, vis.odom_callback)\n",
    "target_sub = rospy.Subscriber('/reaching_goal/goal', PlanningActionGoal, vis.TargetPoseCallback)\n",
    "subscriber = rospy.Subscriber('/reaching_goal/result', PlanningActionResult, vis.GoalStatusCallback)\n",
    "display(hbox)\n",
    "\n",
    "ani = FuncAnimation(vis.fig, vis.update_plot, init_func=vis.plot_init, blit=True, interval=200)\n",
    "plt.show(block=True)\n"
   ]
  },
  {
   "cell_type": "markdown",
   "id": "9dd8f8b1",
   "metadata": {},
   "source": [
    "### Distance to the Closest Obstacle"
   ]
  },
  {
   "cell_type": "markdown",
   "id": "1db2d045",
   "metadata": {},
   "source": [
    "#### Widgets for displaying the distance and angle of the closest obstacle"
   ]
  },
  {
   "cell_type": "code",
   "execution_count": null,
   "id": "48569c43",
   "metadata": {},
   "outputs": [],
   "source": [
    "fixed_text = widgets.Label(value='The nearest obstacle is on:')\n",
    "distance = widgets.FloatText(value=\"0.0\",disabled=True,description='Distance')\n",
    "angle = widgets.FloatText(value=\"0.0\",disabled=True,description='Angle')\n",
    "container = widgets.VBox([fixed_text,distance,angle])\n",
    "container.layout = Layout(margin='auto auto auto auto',width='100%')"
   ]
  },
  {
   "cell_type": "markdown",
   "id": "24ef3ce0",
   "metadata": {},
   "source": [
    "#### Extracting and calculating the distance and angle from topic /scam"
   ]
  },
  {
   "cell_type": "code",
   "execution_count": null,
   "id": "ded43123",
   "metadata": {},
   "outputs": [],
   "source": [
    "def odom_callback(msg:LaserScan):\n",
    "    minimum_val = min(msg.ranges)\n",
    "    index = msg.ranges.index(minimum_val)\n",
    "    angle_val = msg.angle_min + (msg.angle_increment * index)\n",
    "    distance.value = round(minimum_val,2)\n",
    "    angle.value = round(angle_val*(180/pi),2)\n",
    "\n",
    "f = rospy.Subscriber('/scan', LaserScan, odom_callback)\n",
    "\n"
   ]
  },
  {
   "cell_type": "markdown",
   "id": "a8fb6136",
   "metadata": {},
   "source": [
    "#### Displaying "
   ]
  },
  {
   "cell_type": "code",
   "execution_count": null,
   "id": "21501726",
   "metadata": {},
   "outputs": [],
   "source": [
    "display(container)"
   ]
  },
  {
   "cell_type": "markdown",
   "id": "1e573e5c",
   "metadata": {},
   "source": [
    "#### To stop the values from being unstable ( extract one value)"
   ]
  },
  {
   "cell_type": "code",
   "execution_count": null,
   "id": "34e3c142",
   "metadata": {},
   "outputs": [],
   "source": [
    "f.unregister()"
   ]
  },
  {
   "cell_type": "code",
   "execution_count": null,
   "id": "b1002d03",
   "metadata": {},
   "outputs": [],
   "source": []
  }
 ],
 "metadata": {
  "kernelspec": {
   "display_name": "Python 3 (ipykernel)",
   "language": "python",
   "name": "python3"
  },
  "language_info": {
   "codemirror_mode": {
    "name": "ipython",
    "version": 3
   },
   "file_extension": ".py",
   "mimetype": "text/x-python",
   "name": "python",
   "nbconvert_exporter": "python",
   "pygments_lexer": "ipython3",
   "version": "3.8.10"
  },
  "toc": {
   "base_numbering": 1,
   "nav_menu": {},
   "number_sections": true,
   "sideBar": true,
   "skip_h1_title": false,
   "title_cell": "Table of Contents",
   "title_sidebar": "Contents",
   "toc_cell": false,
   "toc_position": {},
   "toc_section_display": true,
   "toc_window_display": false
  },
  "varInspector": {
   "cols": {
    "lenName": 16,
    "lenType": 16,
    "lenVar": 40
   },
   "kernels_config": {
    "python": {
     "delete_cmd_postfix": "",
     "delete_cmd_prefix": "del ",
     "library": "var_list.py",
     "varRefreshCmd": "print(var_dic_list())"
    },
    "r": {
     "delete_cmd_postfix": ") ",
     "delete_cmd_prefix": "rm(",
     "library": "var_list.r",
     "varRefreshCmd": "cat(var_dic_list()) "
    }
   },
   "types_to_exclude": [
    "module",
    "function",
    "builtin_function_or_method",
    "instance",
    "_Feature"
   ],
   "window_display": false
  }
 },
 "nbformat": 4,
 "nbformat_minor": 5
}
